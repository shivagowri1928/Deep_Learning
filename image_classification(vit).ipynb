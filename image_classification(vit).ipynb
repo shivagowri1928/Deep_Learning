{
  "nbformat": 4,
  "nbformat_minor": 0,
  "metadata": {
    "colab": {
      "name": "image_classification(vit)",
      "provenance": [],
      "collapsed_sections": [],
      "authorship_tag": "ABX9TyMAuTZp77zqkYHXHojrvsRz",
      "include_colab_link": true
    },
    "kernelspec": {
      "name": "python3",
      "display_name": "Python 3"
    },
    "language_info": {
      "name": "python"
    },
    "widgets": {
      "application/vnd.jupyter.widget-state+json": {
        "4cb12c6ecab94ebd8f3fadaa8bfd685c": {
          "model_module": "@jupyter-widgets/controls",
          "model_name": "HBoxModel",
          "model_module_version": "1.5.0",
          "state": {
            "_dom_classes": [],
            "_model_module": "@jupyter-widgets/controls",
            "_model_module_version": "1.5.0",
            "_model_name": "HBoxModel",
            "_view_count": null,
            "_view_module": "@jupyter-widgets/controls",
            "_view_module_version": "1.5.0",
            "_view_name": "HBoxView",
            "box_style": "",
            "children": [
              "IPY_MODEL_7d17331c93574d66aa925e74cdedc39f",
              "IPY_MODEL_3e327e2400484ee09de4965619bade63",
              "IPY_MODEL_e5735a606c5b4fd0b602c2089af48e1e"
            ],
            "layout": "IPY_MODEL_389538ce930d4e8699d7b7c529b5cada"
          }
        },
        "7d17331c93574d66aa925e74cdedc39f": {
          "model_module": "@jupyter-widgets/controls",
          "model_name": "HTMLModel",
          "model_module_version": "1.5.0",
          "state": {
            "_dom_classes": [],
            "_model_module": "@jupyter-widgets/controls",
            "_model_module_version": "1.5.0",
            "_model_name": "HTMLModel",
            "_view_count": null,
            "_view_module": "@jupyter-widgets/controls",
            "_view_module_version": "1.5.0",
            "_view_name": "HTMLView",
            "description": "",
            "description_tooltip": null,
            "layout": "IPY_MODEL_9bfda416531d42f3b17465a332dd3464",
            "placeholder": "​",
            "style": "IPY_MODEL_56032978d04b4f449f08e1b917d9e87a",
            "value": "100%"
          }
        },
        "3e327e2400484ee09de4965619bade63": {
          "model_module": "@jupyter-widgets/controls",
          "model_name": "FloatProgressModel",
          "model_module_version": "1.5.0",
          "state": {
            "_dom_classes": [],
            "_model_module": "@jupyter-widgets/controls",
            "_model_module_version": "1.5.0",
            "_model_name": "FloatProgressModel",
            "_view_count": null,
            "_view_module": "@jupyter-widgets/controls",
            "_view_module_version": "1.5.0",
            "_view_name": "ProgressView",
            "bar_style": "success",
            "description": "",
            "description_tooltip": null,
            "layout": "IPY_MODEL_49237dfae42d46199ef12c74ba83029b",
            "max": 3,
            "min": 0,
            "orientation": "horizontal",
            "style": "IPY_MODEL_2d9131122ac34b019309bc2b0a9fd09f",
            "value": 3
          }
        },
        "e5735a606c5b4fd0b602c2089af48e1e": {
          "model_module": "@jupyter-widgets/controls",
          "model_name": "HTMLModel",
          "model_module_version": "1.5.0",
          "state": {
            "_dom_classes": [],
            "_model_module": "@jupyter-widgets/controls",
            "_model_module_version": "1.5.0",
            "_model_name": "HTMLModel",
            "_view_count": null,
            "_view_module": "@jupyter-widgets/controls",
            "_view_module_version": "1.5.0",
            "_view_name": "HTMLView",
            "description": "",
            "description_tooltip": null,
            "layout": "IPY_MODEL_c706a8841f724ffc897e35ac8408b5b1",
            "placeholder": "​",
            "style": "IPY_MODEL_bc488d9d60384eefbdc9fc794f0dfdd8",
            "value": " 3/3 [00:00&lt;00:00, 63.97it/s]"
          }
        },
        "389538ce930d4e8699d7b7c529b5cada": {
          "model_module": "@jupyter-widgets/base",
          "model_name": "LayoutModel",
          "model_module_version": "1.2.0",
          "state": {
            "_model_module": "@jupyter-widgets/base",
            "_model_module_version": "1.2.0",
            "_model_name": "LayoutModel",
            "_view_count": null,
            "_view_module": "@jupyter-widgets/base",
            "_view_module_version": "1.2.0",
            "_view_name": "LayoutView",
            "align_content": null,
            "align_items": null,
            "align_self": null,
            "border": null,
            "bottom": null,
            "display": null,
            "flex": null,
            "flex_flow": null,
            "grid_area": null,
            "grid_auto_columns": null,
            "grid_auto_flow": null,
            "grid_auto_rows": null,
            "grid_column": null,
            "grid_gap": null,
            "grid_row": null,
            "grid_template_areas": null,
            "grid_template_columns": null,
            "grid_template_rows": null,
            "height": null,
            "justify_content": null,
            "justify_items": null,
            "left": null,
            "margin": null,
            "max_height": null,
            "max_width": null,
            "min_height": null,
            "min_width": null,
            "object_fit": null,
            "object_position": null,
            "order": null,
            "overflow": null,
            "overflow_x": null,
            "overflow_y": null,
            "padding": null,
            "right": null,
            "top": null,
            "visibility": null,
            "width": null
          }
        },
        "9bfda416531d42f3b17465a332dd3464": {
          "model_module": "@jupyter-widgets/base",
          "model_name": "LayoutModel",
          "model_module_version": "1.2.0",
          "state": {
            "_model_module": "@jupyter-widgets/base",
            "_model_module_version": "1.2.0",
            "_model_name": "LayoutModel",
            "_view_count": null,
            "_view_module": "@jupyter-widgets/base",
            "_view_module_version": "1.2.0",
            "_view_name": "LayoutView",
            "align_content": null,
            "align_items": null,
            "align_self": null,
            "border": null,
            "bottom": null,
            "display": null,
            "flex": null,
            "flex_flow": null,
            "grid_area": null,
            "grid_auto_columns": null,
            "grid_auto_flow": null,
            "grid_auto_rows": null,
            "grid_column": null,
            "grid_gap": null,
            "grid_row": null,
            "grid_template_areas": null,
            "grid_template_columns": null,
            "grid_template_rows": null,
            "height": null,
            "justify_content": null,
            "justify_items": null,
            "left": null,
            "margin": null,
            "max_height": null,
            "max_width": null,
            "min_height": null,
            "min_width": null,
            "object_fit": null,
            "object_position": null,
            "order": null,
            "overflow": null,
            "overflow_x": null,
            "overflow_y": null,
            "padding": null,
            "right": null,
            "top": null,
            "visibility": null,
            "width": null
          }
        },
        "56032978d04b4f449f08e1b917d9e87a": {
          "model_module": "@jupyter-widgets/controls",
          "model_name": "DescriptionStyleModel",
          "model_module_version": "1.5.0",
          "state": {
            "_model_module": "@jupyter-widgets/controls",
            "_model_module_version": "1.5.0",
            "_model_name": "DescriptionStyleModel",
            "_view_count": null,
            "_view_module": "@jupyter-widgets/base",
            "_view_module_version": "1.2.0",
            "_view_name": "StyleView",
            "description_width": ""
          }
        },
        "49237dfae42d46199ef12c74ba83029b": {
          "model_module": "@jupyter-widgets/base",
          "model_name": "LayoutModel",
          "model_module_version": "1.2.0",
          "state": {
            "_model_module": "@jupyter-widgets/base",
            "_model_module_version": "1.2.0",
            "_model_name": "LayoutModel",
            "_view_count": null,
            "_view_module": "@jupyter-widgets/base",
            "_view_module_version": "1.2.0",
            "_view_name": "LayoutView",
            "align_content": null,
            "align_items": null,
            "align_self": null,
            "border": null,
            "bottom": null,
            "display": null,
            "flex": null,
            "flex_flow": null,
            "grid_area": null,
            "grid_auto_columns": null,
            "grid_auto_flow": null,
            "grid_auto_rows": null,
            "grid_column": null,
            "grid_gap": null,
            "grid_row": null,
            "grid_template_areas": null,
            "grid_template_columns": null,
            "grid_template_rows": null,
            "height": null,
            "justify_content": null,
            "justify_items": null,
            "left": null,
            "margin": null,
            "max_height": null,
            "max_width": null,
            "min_height": null,
            "min_width": null,
            "object_fit": null,
            "object_position": null,
            "order": null,
            "overflow": null,
            "overflow_x": null,
            "overflow_y": null,
            "padding": null,
            "right": null,
            "top": null,
            "visibility": null,
            "width": null
          }
        },
        "2d9131122ac34b019309bc2b0a9fd09f": {
          "model_module": "@jupyter-widgets/controls",
          "model_name": "ProgressStyleModel",
          "model_module_version": "1.5.0",
          "state": {
            "_model_module": "@jupyter-widgets/controls",
            "_model_module_version": "1.5.0",
            "_model_name": "ProgressStyleModel",
            "_view_count": null,
            "_view_module": "@jupyter-widgets/base",
            "_view_module_version": "1.2.0",
            "_view_name": "StyleView",
            "bar_color": null,
            "description_width": ""
          }
        },
        "c706a8841f724ffc897e35ac8408b5b1": {
          "model_module": "@jupyter-widgets/base",
          "model_name": "LayoutModel",
          "model_module_version": "1.2.0",
          "state": {
            "_model_module": "@jupyter-widgets/base",
            "_model_module_version": "1.2.0",
            "_model_name": "LayoutModel",
            "_view_count": null,
            "_view_module": "@jupyter-widgets/base",
            "_view_module_version": "1.2.0",
            "_view_name": "LayoutView",
            "align_content": null,
            "align_items": null,
            "align_self": null,
            "border": null,
            "bottom": null,
            "display": null,
            "flex": null,
            "flex_flow": null,
            "grid_area": null,
            "grid_auto_columns": null,
            "grid_auto_flow": null,
            "grid_auto_rows": null,
            "grid_column": null,
            "grid_gap": null,
            "grid_row": null,
            "grid_template_areas": null,
            "grid_template_columns": null,
            "grid_template_rows": null,
            "height": null,
            "justify_content": null,
            "justify_items": null,
            "left": null,
            "margin": null,
            "max_height": null,
            "max_width": null,
            "min_height": null,
            "min_width": null,
            "object_fit": null,
            "object_position": null,
            "order": null,
            "overflow": null,
            "overflow_x": null,
            "overflow_y": null,
            "padding": null,
            "right": null,
            "top": null,
            "visibility": null,
            "width": null
          }
        },
        "bc488d9d60384eefbdc9fc794f0dfdd8": {
          "model_module": "@jupyter-widgets/controls",
          "model_name": "DescriptionStyleModel",
          "model_module_version": "1.5.0",
          "state": {
            "_model_module": "@jupyter-widgets/controls",
            "_model_module_version": "1.5.0",
            "_model_name": "DescriptionStyleModel",
            "_view_count": null,
            "_view_module": "@jupyter-widgets/base",
            "_view_module_version": "1.2.0",
            "_view_name": "StyleView",
            "description_width": ""
          }
        },
        "ca7c3a5fba644a508f786cf5c5a7999a": {
          "model_module": "@jupyter-widgets/controls",
          "model_name": "VBoxModel",
          "model_module_version": "1.5.0",
          "state": {
            "_dom_classes": [],
            "_model_module": "@jupyter-widgets/controls",
            "_model_module_version": "1.5.0",
            "_model_name": "VBoxModel",
            "_view_count": null,
            "_view_module": "@jupyter-widgets/controls",
            "_view_module_version": "1.5.0",
            "_view_name": "VBoxView",
            "box_style": "",
            "children": [
              "IPY_MODEL_facf2022580948299453af6b562fe1c4",
              "IPY_MODEL_4d40c583c368402fbc3c984074d52c53",
              "IPY_MODEL_3b7304f9f56041d986ea23a97f6a296b",
              "IPY_MODEL_34bb5eed32714ceca08d6f7e9f7782ca"
            ],
            "layout": "IPY_MODEL_5a339252ae104cd98bc8aeba104f617c"
          }
        },
        "facf2022580948299453af6b562fe1c4": {
          "model_module": "@jupyter-widgets/controls",
          "model_name": "HTMLModel",
          "model_module_version": "1.5.0",
          "state": {
            "_dom_classes": [],
            "_model_module": "@jupyter-widgets/controls",
            "_model_module_version": "1.5.0",
            "_model_name": "HTMLModel",
            "_view_count": null,
            "_view_module": "@jupyter-widgets/controls",
            "_view_module_version": "1.5.0",
            "_view_name": "HTMLView",
            "description": "",
            "description_tooltip": null,
            "layout": "IPY_MODEL_0211a0640ec440a6a97460916e5d4756",
            "placeholder": "​",
            "style": "IPY_MODEL_440895a9c85a4c4aa9b0d00acad0601e",
            "value": "<center> <img\nsrc=https://huggingface.co/front/assets/huggingface_logo-noborder.svg\nalt='Hugging Face'> <br> Copy a token from <a\nhref=\"https://huggingface.co/settings/tokens\" target=\"_blank\">your Hugging Face\ntokens page</a> and paste it below. <br> Immediately click login after copying\nyour token or it might be stored in plain text in this notebook file. </center>"
          }
        },
        "4d40c583c368402fbc3c984074d52c53": {
          "model_module": "@jupyter-widgets/controls",
          "model_name": "PasswordModel",
          "model_module_version": "1.5.0",
          "state": {
            "_dom_classes": [],
            "_model_module": "@jupyter-widgets/controls",
            "_model_module_version": "1.5.0",
            "_model_name": "PasswordModel",
            "_view_count": null,
            "_view_module": "@jupyter-widgets/controls",
            "_view_module_version": "1.5.0",
            "_view_name": "PasswordView",
            "continuous_update": true,
            "description": "Token:",
            "description_tooltip": null,
            "disabled": false,
            "layout": "IPY_MODEL_afeace46391f4b0f9d20a77e4067ccd6",
            "placeholder": "​",
            "style": "IPY_MODEL_c861cc52460741b8bc9a01069bdb2af4",
            "value": ""
          }
        },
        "3b7304f9f56041d986ea23a97f6a296b": {
          "model_module": "@jupyter-widgets/controls",
          "model_name": "ButtonModel",
          "model_module_version": "1.5.0",
          "state": {
            "_dom_classes": [],
            "_model_module": "@jupyter-widgets/controls",
            "_model_module_version": "1.5.0",
            "_model_name": "ButtonModel",
            "_view_count": null,
            "_view_module": "@jupyter-widgets/controls",
            "_view_module_version": "1.5.0",
            "_view_name": "ButtonView",
            "button_style": "",
            "description": "Login",
            "disabled": false,
            "icon": "",
            "layout": "IPY_MODEL_86726d91174f4880b6366c994a2aeb92",
            "style": "IPY_MODEL_5c239cfd89c942e8b24782134c2721e4",
            "tooltip": ""
          }
        },
        "34bb5eed32714ceca08d6f7e9f7782ca": {
          "model_module": "@jupyter-widgets/controls",
          "model_name": "HTMLModel",
          "model_module_version": "1.5.0",
          "state": {
            "_dom_classes": [],
            "_model_module": "@jupyter-widgets/controls",
            "_model_module_version": "1.5.0",
            "_model_name": "HTMLModel",
            "_view_count": null,
            "_view_module": "@jupyter-widgets/controls",
            "_view_module_version": "1.5.0",
            "_view_name": "HTMLView",
            "description": "",
            "description_tooltip": null,
            "layout": "IPY_MODEL_aeff36a5c03747b1a3bacbba885ce25f",
            "placeholder": "​",
            "style": "IPY_MODEL_78a6f99eddd64d52ac8be816012b3196",
            "value": "\n<b>Pro Tip:</b> If you don't already have one, you can create a dedicated\n'notebooks' token with 'write' access, that you can then easily reuse for all\nnotebooks. </center>"
          }
        },
        "5a339252ae104cd98bc8aeba104f617c": {
          "model_module": "@jupyter-widgets/base",
          "model_name": "LayoutModel",
          "model_module_version": "1.2.0",
          "state": {
            "_model_module": "@jupyter-widgets/base",
            "_model_module_version": "1.2.0",
            "_model_name": "LayoutModel",
            "_view_count": null,
            "_view_module": "@jupyter-widgets/base",
            "_view_module_version": "1.2.0",
            "_view_name": "LayoutView",
            "align_content": null,
            "align_items": "center",
            "align_self": null,
            "border": null,
            "bottom": null,
            "display": "flex",
            "flex": null,
            "flex_flow": "column",
            "grid_area": null,
            "grid_auto_columns": null,
            "grid_auto_flow": null,
            "grid_auto_rows": null,
            "grid_column": null,
            "grid_gap": null,
            "grid_row": null,
            "grid_template_areas": null,
            "grid_template_columns": null,
            "grid_template_rows": null,
            "height": null,
            "justify_content": null,
            "justify_items": null,
            "left": null,
            "margin": null,
            "max_height": null,
            "max_width": null,
            "min_height": null,
            "min_width": null,
            "object_fit": null,
            "object_position": null,
            "order": null,
            "overflow": null,
            "overflow_x": null,
            "overflow_y": null,
            "padding": null,
            "right": null,
            "top": null,
            "visibility": null,
            "width": "50%"
          }
        },
        "0211a0640ec440a6a97460916e5d4756": {
          "model_module": "@jupyter-widgets/base",
          "model_name": "LayoutModel",
          "model_module_version": "1.2.0",
          "state": {
            "_model_module": "@jupyter-widgets/base",
            "_model_module_version": "1.2.0",
            "_model_name": "LayoutModel",
            "_view_count": null,
            "_view_module": "@jupyter-widgets/base",
            "_view_module_version": "1.2.0",
            "_view_name": "LayoutView",
            "align_content": null,
            "align_items": null,
            "align_self": null,
            "border": null,
            "bottom": null,
            "display": null,
            "flex": null,
            "flex_flow": null,
            "grid_area": null,
            "grid_auto_columns": null,
            "grid_auto_flow": null,
            "grid_auto_rows": null,
            "grid_column": null,
            "grid_gap": null,
            "grid_row": null,
            "grid_template_areas": null,
            "grid_template_columns": null,
            "grid_template_rows": null,
            "height": null,
            "justify_content": null,
            "justify_items": null,
            "left": null,
            "margin": null,
            "max_height": null,
            "max_width": null,
            "min_height": null,
            "min_width": null,
            "object_fit": null,
            "object_position": null,
            "order": null,
            "overflow": null,
            "overflow_x": null,
            "overflow_y": null,
            "padding": null,
            "right": null,
            "top": null,
            "visibility": null,
            "width": null
          }
        },
        "440895a9c85a4c4aa9b0d00acad0601e": {
          "model_module": "@jupyter-widgets/controls",
          "model_name": "DescriptionStyleModel",
          "model_module_version": "1.5.0",
          "state": {
            "_model_module": "@jupyter-widgets/controls",
            "_model_module_version": "1.5.0",
            "_model_name": "DescriptionStyleModel",
            "_view_count": null,
            "_view_module": "@jupyter-widgets/base",
            "_view_module_version": "1.2.0",
            "_view_name": "StyleView",
            "description_width": ""
          }
        },
        "afeace46391f4b0f9d20a77e4067ccd6": {
          "model_module": "@jupyter-widgets/base",
          "model_name": "LayoutModel",
          "model_module_version": "1.2.0",
          "state": {
            "_model_module": "@jupyter-widgets/base",
            "_model_module_version": "1.2.0",
            "_model_name": "LayoutModel",
            "_view_count": null,
            "_view_module": "@jupyter-widgets/base",
            "_view_module_version": "1.2.0",
            "_view_name": "LayoutView",
            "align_content": null,
            "align_items": null,
            "align_self": null,
            "border": null,
            "bottom": null,
            "display": null,
            "flex": null,
            "flex_flow": null,
            "grid_area": null,
            "grid_auto_columns": null,
            "grid_auto_flow": null,
            "grid_auto_rows": null,
            "grid_column": null,
            "grid_gap": null,
            "grid_row": null,
            "grid_template_areas": null,
            "grid_template_columns": null,
            "grid_template_rows": null,
            "height": null,
            "justify_content": null,
            "justify_items": null,
            "left": null,
            "margin": null,
            "max_height": null,
            "max_width": null,
            "min_height": null,
            "min_width": null,
            "object_fit": null,
            "object_position": null,
            "order": null,
            "overflow": null,
            "overflow_x": null,
            "overflow_y": null,
            "padding": null,
            "right": null,
            "top": null,
            "visibility": null,
            "width": null
          }
        },
        "c861cc52460741b8bc9a01069bdb2af4": {
          "model_module": "@jupyter-widgets/controls",
          "model_name": "DescriptionStyleModel",
          "model_module_version": "1.5.0",
          "state": {
            "_model_module": "@jupyter-widgets/controls",
            "_model_module_version": "1.5.0",
            "_model_name": "DescriptionStyleModel",
            "_view_count": null,
            "_view_module": "@jupyter-widgets/base",
            "_view_module_version": "1.2.0",
            "_view_name": "StyleView",
            "description_width": ""
          }
        },
        "86726d91174f4880b6366c994a2aeb92": {
          "model_module": "@jupyter-widgets/base",
          "model_name": "LayoutModel",
          "model_module_version": "1.2.0",
          "state": {
            "_model_module": "@jupyter-widgets/base",
            "_model_module_version": "1.2.0",
            "_model_name": "LayoutModel",
            "_view_count": null,
            "_view_module": "@jupyter-widgets/base",
            "_view_module_version": "1.2.0",
            "_view_name": "LayoutView",
            "align_content": null,
            "align_items": null,
            "align_self": null,
            "border": null,
            "bottom": null,
            "display": null,
            "flex": null,
            "flex_flow": null,
            "grid_area": null,
            "grid_auto_columns": null,
            "grid_auto_flow": null,
            "grid_auto_rows": null,
            "grid_column": null,
            "grid_gap": null,
            "grid_row": null,
            "grid_template_areas": null,
            "grid_template_columns": null,
            "grid_template_rows": null,
            "height": null,
            "justify_content": null,
            "justify_items": null,
            "left": null,
            "margin": null,
            "max_height": null,
            "max_width": null,
            "min_height": null,
            "min_width": null,
            "object_fit": null,
            "object_position": null,
            "order": null,
            "overflow": null,
            "overflow_x": null,
            "overflow_y": null,
            "padding": null,
            "right": null,
            "top": null,
            "visibility": null,
            "width": null
          }
        },
        "5c239cfd89c942e8b24782134c2721e4": {
          "model_module": "@jupyter-widgets/controls",
          "model_name": "ButtonStyleModel",
          "model_module_version": "1.5.0",
          "state": {
            "_model_module": "@jupyter-widgets/controls",
            "_model_module_version": "1.5.0",
            "_model_name": "ButtonStyleModel",
            "_view_count": null,
            "_view_module": "@jupyter-widgets/base",
            "_view_module_version": "1.2.0",
            "_view_name": "StyleView",
            "button_color": null,
            "font_weight": ""
          }
        },
        "aeff36a5c03747b1a3bacbba885ce25f": {
          "model_module": "@jupyter-widgets/base",
          "model_name": "LayoutModel",
          "model_module_version": "1.2.0",
          "state": {
            "_model_module": "@jupyter-widgets/base",
            "_model_module_version": "1.2.0",
            "_model_name": "LayoutModel",
            "_view_count": null,
            "_view_module": "@jupyter-widgets/base",
            "_view_module_version": "1.2.0",
            "_view_name": "LayoutView",
            "align_content": null,
            "align_items": null,
            "align_self": null,
            "border": null,
            "bottom": null,
            "display": null,
            "flex": null,
            "flex_flow": null,
            "grid_area": null,
            "grid_auto_columns": null,
            "grid_auto_flow": null,
            "grid_auto_rows": null,
            "grid_column": null,
            "grid_gap": null,
            "grid_row": null,
            "grid_template_areas": null,
            "grid_template_columns": null,
            "grid_template_rows": null,
            "height": null,
            "justify_content": null,
            "justify_items": null,
            "left": null,
            "margin": null,
            "max_height": null,
            "max_width": null,
            "min_height": null,
            "min_width": null,
            "object_fit": null,
            "object_position": null,
            "order": null,
            "overflow": null,
            "overflow_x": null,
            "overflow_y": null,
            "padding": null,
            "right": null,
            "top": null,
            "visibility": null,
            "width": null
          }
        },
        "78a6f99eddd64d52ac8be816012b3196": {
          "model_module": "@jupyter-widgets/controls",
          "model_name": "DescriptionStyleModel",
          "model_module_version": "1.5.0",
          "state": {
            "_model_module": "@jupyter-widgets/controls",
            "_model_module_version": "1.5.0",
            "_model_name": "DescriptionStyleModel",
            "_view_count": null,
            "_view_module": "@jupyter-widgets/base",
            "_view_module_version": "1.2.0",
            "_view_name": "StyleView",
            "description_width": ""
          }
        }
      }
    },
    "accelerator": "GPU",
    "gpuClass": "standard"
  },
  "cells": [
    {
      "cell_type": "markdown",
      "metadata": {
        "id": "view-in-github",
        "colab_type": "text"
      },
      "source": [
        "<a href=\"https://colab.research.google.com/github/shivagowri1928/Deep_Learning/blob/main/image_classification(vit).ipynb\" target=\"_parent\"><img src=\"https://colab.research.google.com/assets/colab-badge.svg\" alt=\"Open In Colab\"/></a>"
      ]
    },
    {
      "cell_type": "code",
      "execution_count": 1,
      "metadata": {
        "id": "frDPdzt5F1XE"
      },
      "outputs": [],
      "source": [
        "%%capture\n",
        "!pip install datasets transformers"
      ]
    },
    {
      "cell_type": "code",
      "source": [
        "from datasets import load_dataset\n",
        "\n",
        "ds = load_dataset('Matthijs/snacks')"
      ],
      "metadata": {
        "colab": {
          "base_uri": "https://localhost:8080/",
          "height": 86,
          "referenced_widgets": [
            "4cb12c6ecab94ebd8f3fadaa8bfd685c",
            "7d17331c93574d66aa925e74cdedc39f",
            "3e327e2400484ee09de4965619bade63",
            "e5735a606c5b4fd0b602c2089af48e1e",
            "389538ce930d4e8699d7b7c529b5cada",
            "9bfda416531d42f3b17465a332dd3464",
            "56032978d04b4f449f08e1b917d9e87a",
            "49237dfae42d46199ef12c74ba83029b",
            "2d9131122ac34b019309bc2b0a9fd09f",
            "c706a8841f724ffc897e35ac8408b5b1",
            "bc488d9d60384eefbdc9fc794f0dfdd8"
          ]
        },
        "id": "kUJ8PV0XGhiM",
        "outputId": "3f0138a4-26e3-4e21-c4cb-8187d6bc7355"
      },
      "execution_count": 2,
      "outputs": [
        {
          "output_type": "stream",
          "name": "stderr",
          "text": [
            "Reusing dataset snacks (/root/.cache/huggingface/datasets/Matthijs___snacks/default/0.0.1/c0ce49075aa469a098a5f2e3455941c894e02e1c9bf642d4d33e6c51460ff590)\n"
          ]
        },
        {
          "output_type": "display_data",
          "data": {
            "text/plain": [
              "  0%|          | 0/3 [00:00<?, ?it/s]"
            ],
            "application/vnd.jupyter.widget-view+json": {
              "version_major": 2,
              "version_minor": 0,
              "model_id": "4cb12c6ecab94ebd8f3fadaa8bfd685c"
            }
          },
          "metadata": {}
        }
      ]
    },
    {
      "cell_type": "code",
      "source": [
        "eg = ds['train'][40]\n",
        "eg"
      ],
      "metadata": {
        "colab": {
          "base_uri": "https://localhost:8080/"
        },
        "id": "P62NQH8PGC6l",
        "outputId": "73416bf5-e67c-4bf7-fca9-9a0761d2db29"
      },
      "execution_count": 3,
      "outputs": [
        {
          "output_type": "execute_result",
          "data": {
            "text/plain": [
              "{'image': <PIL.JpegImagePlugin.JpegImageFile image mode=RGB size=341x256 at 0x7FE26A01CE50>,\n",
              " 'label': 7}"
            ]
          },
          "metadata": {},
          "execution_count": 3
        }
      ]
    },
    {
      "cell_type": "code",
      "source": [
        "image = eg['image']\n",
        "image"
      ],
      "metadata": {
        "colab": {
          "base_uri": "https://localhost:8080/",
          "height": 273
        },
        "id": "_eMpH-0OHhlo",
        "outputId": "5347a27e-b5b0-4158-ded2-016b1397d0a8"
      },
      "execution_count": 4,
      "outputs": [
        {
          "output_type": "execute_result",
          "data": {
            "text/plain": [
              "<PIL.JpegImagePlugin.JpegImageFile image mode=RGB size=341x256 at 0x7FE26A01CE50>"
            ],
            "image/png": "[encoded data removed]"
          },
          "metadata": {},
          "execution_count": 4
        }
      ]
    },
    {
      "cell_type": "code",
      "source": [
        "label = ds['train'].features['label']\n",
        "label"
      ],
      "metadata": {
        "colab": {
          "base_uri": "https://localhost:8080/"
        },
        "id": "OvnlPDrfH4UN",
        "outputId": "e3e70311-8506-49ff-e99f-426bc842e96b"
      },
      "execution_count": 5,
      "outputs": [
        {
          "output_type": "execute_result",
          "data": {
            "text/plain": [
              "ClassLabel(num_classes=20, names=['apple', 'banana', 'cake', 'candy', 'carrot', 'cookie', 'doughnut', 'grape', 'hot dog', 'ice cream', 'juice', 'muffin', 'orange', 'pineapple', 'popcorn', 'pretzel', 'salad', 'strawberry', 'waffle', 'watermelon'], id=None)"
            ]
          },
          "metadata": {},
          "execution_count": 5
        }
      ]
    },
    {
      "cell_type": "code",
      "source": [
        "print('No of images in Train dataset ', len(ds['train']))\n",
        "print('No of images in Test dataset ', len(ds['test']))\n",
        "print('No of images in Validation dataset ', len(ds['validation']))\n"
      ],
      "metadata": {
        "colab": {
          "base_uri": "https://localhost:8080/"
        },
        "id": "hNw9x7_YLG1C",
        "outputId": "bb1faf60-f888-4d5c-c806-3347cac6e1b8"
      },
      "execution_count": 6,
      "outputs": [
        {
          "output_type": "stream",
          "name": "stdout",
          "text": [
            "No of images in Train dataset  4838\n",
            "No of images in Test dataset  952\n",
            "No of images in Validation dataset  955\n"
          ]
        }
      ]
    },
    {
      "cell_type": "code",
      "source": [
        "label.int2str(eg['label'])"
      ],
      "metadata": {
        "colab": {
          "base_uri": "https://localhost:8080/",
          "height": 36
        },
        "id": "wQkxlcUpIRb1",
        "outputId": "327d64db-6e9d-4b7b-9a78-ce3ecb9267a3"
      },
      "execution_count": 7,
      "outputs": [
        {
          "output_type": "execute_result",
          "data": {
            "text/plain": [
              "'grape'"
            ],
            "application/vnd.google.colaboratory.intrinsic+json": {
              "type": "string"
            }
          },
          "metadata": {},
          "execution_count": 7
        }
      ]
    },
    {
      "cell_type": "code",
      "source": [
        "\"\"\"\n",
        "from transformers.utils.dummy_vision_objects import ImageGPTFeatureExtractor\n",
        "import random\n",
        "from PIL import ImageDraw, ImageFont, Image\n",
        "\n",
        "def show_examples(ds, seed:int=1234, egs_per_class: int = 2, size=(224,224)):\n",
        "  w, h =size\n",
        "  labels = ds['train'].features['label'].names\n",
        "  grid = Image.new('RGB', size = (egs_per_class*w, len(labels) * h))\n",
        "  draw = ImageDraw.Draw(grid)\n",
        "\n",
        "\n",
        "  for label_id, label in enumerate(labels):\n",
        "    ds_slice = ds['train'].filter(lambda eg : eg['label'] == label_id).shuffle(seed).select(range(egs_per_class))\n",
        "\n",
        "\n",
        "    for i, example in enumerate(ds_slice):\n",
        "      image = example['image']\n",
        "      idx = egs_per_class * label_id * i\n",
        "      box = (idx % egs_per_class * w, idx // egs_per_class *h)\n",
        "      grid.paste(image.resize(size), box=box)\n",
        "      draw.text(box, label, (255, 255, 255))\n",
        "\n",
        "  return grid\n",
        "\n",
        "show_examples(ds, seed=random.randint(0,1337), egs_per_class=2)\n",
        "\n",
        "\"\"\"\n",
        "\n",
        "\n"
      ],
      "metadata": {
        "colab": {
          "base_uri": "https://localhost:8080/",
          "height": 157
        },
        "id": "OJfwHNDNJLCz",
        "outputId": "2138e1e4-e987-425e-e196-2e966b5c4354"
      },
      "execution_count": 8,
      "outputs": [
        {
          "output_type": "execute_result",
          "data": {
            "text/plain": [
              "\"\\nfrom transformers.utils.dummy_vision_objects import ImageGPTFeatureExtractor\\nimport random\\nfrom PIL import ImageDraw, ImageFont, Image\\n\\ndef show_examples(ds, seed:int=1234, egs_per_class: int = 2, size=(224,224)):\\n  w, h =size\\n  labels = ds['train'].features['label'].names\\n  grid = Image.new('RGB', size = (egs_per_class*w, len(labels) * h))\\n  draw = ImageDraw.Draw(grid)\\n\\n\\n  for label_id, label in enumerate(labels):\\n    ds_slice = ds['train'].filter(lambda eg : eg['label'] == label_id).shuffle(seed).select(range(egs_per_class))\\n\\n\\n    for i, example in enumerate(ds_slice):\\n      image = example['image']\\n      idx = egs_per_class * label_id * i\\n      box = (idx % egs_per_class * w, idx // egs_per_class *h)\\n      grid.paste(image.resize(size), box=box)\\n      draw.text(box, label, (255, 255, 255))\\n\\n  return grid\\n\\nshow_examples(ds, seed=random.randint(0,1337), egs_per_class=2)\\n\\n\""
            ],
            "application/vnd.google.colaboratory.intrinsic+json": {
              "type": "string"
            }
          },
          "metadata": {},
          "execution_count": 8
        }
      ]
    },
    {
      "cell_type": "code",
      "source": [
        "from transformers import ViTFeatureExtractor\n",
        "model_name = 'google/vit-base-patch16-224-in21k'\n",
        "feature_extractor = ViTFeatureExtractor.from_pretrained(model_name)"
      ],
      "metadata": {
        "id": "zVUNylhiWR9B"
      },
      "execution_count": 9,
      "outputs": []
    },
    {
      "cell_type": "code",
      "source": [
        "feature_extractor"
      ],
      "metadata": {
        "colab": {
          "base_uri": "https://localhost:8080/"
        },
        "id": "FuCjEsY40dJI",
        "outputId": "a5ed3122-1f51-479c-ff36-5b5c633ba8b5"
      },
      "execution_count": 10,
      "outputs": [
        {
          "output_type": "execute_result",
          "data": {
            "text/plain": [
              "ViTFeatureExtractor {\n",
              "  \"do_normalize\": true,\n",
              "  \"do_resize\": true,\n",
              "  \"feature_extractor_type\": \"ViTFeatureExtractor\",\n",
              "  \"image_mean\": [\n",
              "    0.5,\n",
              "    0.5,\n",
              "    0.5\n",
              "  ],\n",
              "  \"image_std\": [\n",
              "    0.5,\n",
              "    0.5,\n",
              "    0.5\n",
              "  ],\n",
              "  \"resample\": 2,\n",
              "  \"size\": 224\n",
              "}"
            ]
          },
          "metadata": {},
          "execution_count": 10
        }
      ]
    },
    {
      "cell_type": "code",
      "source": [
        "feature_extractor(image, return_tensors='pt')"
      ],
      "metadata": {
        "colab": {
          "base_uri": "https://localhost:8080/"
        },
        "id": "c6KOV6xw0gcP",
        "outputId": "a9f4d704-f870-4f32-9dd1-e5a91a5cea11"
      },
      "execution_count": 11,
      "outputs": [
        {
          "output_type": "execute_result",
          "data": {
            "text/plain": [
              "{'pixel_values': tensor([[[[ 0.4431,  0.4667,  0.4667,  ...,  0.9843,  0.9608,  0.9686],\n",
              "          [ 0.4667,  0.4745,  0.4588,  ...,  0.9843,  0.9608,  0.9686],\n",
              "          [ 0.4745,  0.4667,  0.4353,  ...,  0.9765,  0.9686,  0.9765],\n",
              "          ...,\n",
              "          [-0.2157, -0.4275, -0.5529,  ...,  0.7176,  0.7333,  0.7176],\n",
              "          [-0.2157, -0.4118, -0.5608,  ...,  0.6314,  0.6314,  0.6000],\n",
              "          [-0.1608, -0.3882, -0.5686,  ...,  0.5765,  0.5529,  0.5059]],\n",
              "\n",
              "         [[ 0.3333,  0.3569,  0.3569,  ...,  0.5686,  0.5529,  0.5608],\n",
              "          [ 0.3569,  0.3647,  0.3490,  ...,  0.5216,  0.4980,  0.5137],\n",
              "          [ 0.3647,  0.3569,  0.3255,  ...,  0.4196,  0.4118,  0.4275],\n",
              "          ...,\n",
              "          [-0.4118, -0.6314, -0.7569,  ...,  0.2235,  0.2549,  0.2627],\n",
              "          [-0.4196, -0.6235, -0.7725,  ...,  0.1216,  0.1373,  0.1216],\n",
              "          [-0.3961, -0.6000, -0.7804,  ...,  0.0667,  0.0510,  0.0275]],\n",
              "\n",
              "         [[-0.4275, -0.4039, -0.4039,  ..., -0.7961, -0.8196, -0.8275],\n",
              "          [-0.4039, -0.3961, -0.4118,  ..., -0.8196, -0.8431, -0.8510],\n",
              "          [-0.3961, -0.4039, -0.4353,  ..., -0.8745, -0.8902, -0.8980],\n",
              "          ...,\n",
              "          [-0.5922, -0.8118, -0.9294,  ..., -0.4588, -0.4275, -0.4039],\n",
              "          [-0.6235, -0.8196, -0.9686,  ..., -0.5686, -0.5451, -0.5529],\n",
              "          [-0.6000, -0.8118, -0.9843,  ..., -0.6392, -0.6314, -0.6471]]]])}"
            ]
          },
          "metadata": {},
          "execution_count": 11
        }
      ]
    },
    {
      "cell_type": "code",
      "source": [
        "def process_example(example):\n",
        "  inputs = feature_extractor(example['image'], return_tensors='pt')\n",
        "  inputs['label'] = example['label']\n",
        "  return inputs"
      ],
      "metadata": {
        "id": "sYAdPE6w0qgP"
      },
      "execution_count": 12,
      "outputs": []
    },
    {
      "cell_type": "code",
      "source": [
        "process_example(ds['train'][0])"
      ],
      "metadata": {
        "colab": {
          "base_uri": "https://localhost:8080/"
        },
        "id": "UTdFlT2P2Fm4",
        "outputId": "1ae9488a-17fb-41a0-ec5d-6b86c221e5d2"
      },
      "execution_count": 13,
      "outputs": [
        {
          "output_type": "execute_result",
          "data": {
            "text/plain": [
              "{'pixel_values': tensor([[[[-0.5294, -0.7490, -0.8353,  ..., -0.7255, -0.6157, -0.6471],\n",
              "          [-0.6314, -0.8431, -0.8275,  ..., -0.5529, -0.6157, -0.6471],\n",
              "          [-0.7098, -0.8118, -0.6784,  ..., -0.4902, -0.6941, -0.7098],\n",
              "          ...,\n",
              "          [-0.8902, -0.8039, -0.7647,  ..., -0.9373, -0.8588, -0.8902],\n",
              "          [-0.7882, -0.7333, -0.7176,  ..., -0.9529, -0.8824, -0.9294],\n",
              "          [-0.6000, -0.6314, -0.6549,  ..., -0.9529, -0.8667, -0.9216]],\n",
              "\n",
              "         [[ 0.2549,  0.1137,  0.1059,  ..., -0.4039, -0.3098, -0.3804],\n",
              "          [ 0.1765,  0.0275,  0.0667,  ..., -0.2235, -0.3176, -0.3882],\n",
              "          [ 0.1451,  0.0745,  0.1529,  ..., -0.1608, -0.3882, -0.4431],\n",
              "          ...,\n",
              "          [-0.2392, -0.1451, -0.0667,  ..., -0.4588, -0.3569, -0.3804],\n",
              "          [-0.0980, -0.0353,  0.0196,  ..., -0.4745, -0.3804, -0.4196],\n",
              "          [ 0.1059,  0.0902,  0.0902,  ..., -0.4588, -0.3569, -0.4118]],\n",
              "\n",
              "         [[ 1.0000,  0.9765,  0.9059,  ..., -0.4745, -0.4431, -0.5373],\n",
              "          [ 0.9922,  0.8745,  0.8902,  ..., -0.3098, -0.4431, -0.5216],\n",
              "          [ 0.9765,  0.8824,  0.9529,  ..., -0.2471, -0.5059, -0.5686],\n",
              "          ...,\n",
              "          [ 0.6784,  0.7804,  0.8745,  ...,  0.2706,  0.3647,  0.3412],\n",
              "          [ 0.8431,  0.9137,  0.9686,  ...,  0.2627,  0.3569,  0.3098],\n",
              "          [ 0.9843,  0.9922,  1.0000,  ...,  0.2784,  0.3804,  0.3255]]]]), 'label': 7}"
            ]
          },
          "metadata": {},
          "execution_count": 13
        }
      ]
    },
    {
      "cell_type": "code",
      "source": [
        "def transform(example_batch):\n",
        "  inputs = feature_extractor([x for x in example_batch['image']], return_tensors='pt')\n",
        "\n",
        "  inputs['label'] = example_batch['label']\n",
        "  return inputs\n",
        "\n",
        "prepared_ds = ds.with_transform(transform)"
      ],
      "metadata": {
        "colab": {
          "base_uri": "https://localhost:8080/"
        },
        "id": "7toiKhsp2P9X",
        "outputId": "eef8bbc5-e332-4856-f989-5973c59ca9c8"
      },
      "execution_count": 14,
      "outputs": [
        {
          "output_type": "stream",
          "name": "stderr",
          "text": [
            "Parameter 'transform'=<function transform at 0x7fe19d4ff320> of the transform datasets.arrow_dataset.Dataset.set_format couldn't be hashed properly, a random hash was used instead. Make sure your transforms and parameters are serializable with pickle or dill for the dataset fingerprinting and caching to work. If you reuse this transform, the caching mechanism will consider it to be different from the previous calls and recompute everything. This warning is only showed once. Subsequent hashing failures won't be showed.\n"
          ]
        }
      ]
    },
    {
      "cell_type": "code",
      "source": [
        "prepared_ds['train'][0:2]"
      ],
      "metadata": {
        "colab": {
          "base_uri": "https://localhost:8080/"
        },
        "id": "FP11fVbD24Xw",
        "outputId": "af0f4eb7-069d-4a8a-c9ce-ef7abb938f11"
      },
      "execution_count": 15,
      "outputs": [
        {
          "output_type": "execute_result",
          "data": {
            "text/plain": [
              "{'pixel_values': tensor([[[[-0.5294, -0.7490, -0.8353,  ..., -0.7255, -0.6157, -0.6471],\n",
              "          [-0.6314, -0.8431, -0.8275,  ..., -0.5529, -0.6157, -0.6471],\n",
              "          [-0.7098, -0.8118, -0.6784,  ..., -0.4902, -0.6941, -0.7098],\n",
              "          ...,\n",
              "          [-0.8902, -0.8039, -0.7647,  ..., -0.9373, -0.8588, -0.8902],\n",
              "          [-0.7882, -0.7333, -0.7176,  ..., -0.9529, -0.8824, -0.9294],\n",
              "          [-0.6000, -0.6314, -0.6549,  ..., -0.9529, -0.8667, -0.9216]],\n",
              "\n",
              "         [[ 0.2549,  0.1137,  0.1059,  ..., -0.4039, -0.3098, -0.3804],\n",
              "          [ 0.1765,  0.0275,  0.0667,  ..., -0.2235, -0.3176, -0.3882],\n",
              "          [ 0.1451,  0.0745,  0.1529,  ..., -0.1608, -0.3882, -0.4431],\n",
              "          ...,\n",
              "          [-0.2392, -0.1451, -0.0667,  ..., -0.4588, -0.3569, -0.3804],\n",
              "          [-0.0980, -0.0353,  0.0196,  ..., -0.4745, -0.3804, -0.4196],\n",
              "          [ 0.1059,  0.0902,  0.0902,  ..., -0.4588, -0.3569, -0.4118]],\n",
              "\n",
              "         [[ 1.0000,  0.9765,  0.9059,  ..., -0.4745, -0.4431, -0.5373],\n",
              "          [ 0.9922,  0.8745,  0.8902,  ..., -0.3098, -0.4431, -0.5216],\n",
              "          [ 0.9765,  0.8824,  0.9529,  ..., -0.2471, -0.5059, -0.5686],\n",
              "          ...,\n",
              "          [ 0.6784,  0.7804,  0.8745,  ...,  0.2706,  0.3647,  0.3412],\n",
              "          [ 0.8431,  0.9137,  0.9686,  ...,  0.2627,  0.3569,  0.3098],\n",
              "          [ 0.9843,  0.9922,  1.0000,  ...,  0.2784,  0.3804,  0.3255]]],\n",
              "\n",
              "\n",
              "        [[[ 0.2392,  0.2706,  0.2941,  ..., -0.4588, -0.4196, -0.3961],\n",
              "          [ 0.2000,  0.2471,  0.3098,  ..., -0.4588, -0.4196, -0.4039],\n",
              "          [ 0.2157,  0.2706,  0.3490,  ..., -0.4588, -0.4275, -0.4039],\n",
              "          ...,\n",
              "          [ 0.0196,  0.0196,  0.0275,  ...,  0.4745,  0.3020,  0.1529],\n",
              "          [-0.0039,  0.0039,  0.0196,  ...,  0.4118,  0.2314,  0.0824],\n",
              "          [-0.0275, -0.0196, -0.0039,  ...,  0.3333,  0.1529, -0.0039]],\n",
              "\n",
              "         [[ 0.2706,  0.2549,  0.2078,  ..., -0.1529, -0.1216, -0.1059],\n",
              "          [ 0.2157,  0.2314,  0.2157,  ..., -0.1451, -0.1294, -0.1059],\n",
              "          [ 0.2235,  0.2471,  0.2471,  ..., -0.1373, -0.1216, -0.1059],\n",
              "          ...,\n",
              "          [-0.0588, -0.0588, -0.0510,  ...,  0.4980,  0.3333,  0.1843],\n",
              "          [-0.0824, -0.0745, -0.0588,  ...,  0.4431,  0.2706,  0.1137],\n",
              "          [-0.1059, -0.0980, -0.0824,  ...,  0.3647,  0.1922,  0.0353]],\n",
              "\n",
              "         [[-0.1843, -0.1765, -0.1765,  ..., -0.4980, -0.4745, -0.4667],\n",
              "          [-0.2392, -0.2000, -0.1608,  ..., -0.4980, -0.4824, -0.4667],\n",
              "          [-0.2235, -0.1843, -0.1294,  ..., -0.4902, -0.4824, -0.4667],\n",
              "          ...,\n",
              "          [-0.1529, -0.1529, -0.1451,  ...,  0.5294,  0.3333,  0.1765],\n",
              "          [-0.1765, -0.1686, -0.1529,  ...,  0.4510,  0.2627,  0.0902],\n",
              "          [-0.2000, -0.1922, -0.1765,  ...,  0.3569,  0.1686, -0.0039]]]]), 'label': [7, 7]}"
            ]
          },
          "metadata": {},
          "execution_count": 15
        }
      ]
    },
    {
      "cell_type": "code",
      "source": [
        "import torch\n",
        "\n",
        "def collate_fn(examples):\n",
        "  pixel_values = torch.stack([example[\"pixel_values\"] for example in examples])\n",
        "  labels = torch.tensor([example[\"label\"] for example in examples])\n",
        "  return {\"pixel_values\": pixel_values, \"labels\": labels}\n",
        "\n"
      ],
      "metadata": {
        "id": "yYf8yUs14zTL"
      },
      "execution_count": 16,
      "outputs": []
    },
    {
      "cell_type": "code",
      "source": [
        "import numpy as np\n",
        "from datasets import load_metric\n",
        "\n",
        "metric = load_metric('accuracy')\n",
        "\n",
        "def compute_metrics(eval_pred):\n",
        "    predictions, labels = eval_pred\n",
        "    predictions = np.argmax(predictions, axis=1)\n",
        "    return metric.compute(predictions=predictions, references=labels)"
      ],
      "metadata": {
        "id": "SJanrSQs7cMH"
      },
      "execution_count": 17,
      "outputs": []
    },
    {
      "cell_type": "code",
      "source": [
        "from transformers import ViTForImageClassification\n",
        "\n",
        "label = ds['train'].features['label'].names\n",
        "\n",
        "model = ViTForImageClassification.from_pretrained(model_name,\n",
        "                                                  num_labels=20,\n",
        "                                                  id2label={str(i): c for i,c in enumerate(label)},\n",
        "                                                  label2id={c:str(i) for i,c in enumerate(label)})"
      ],
      "metadata": {
        "colab": {
          "base_uri": "https://localhost:8080/"
        },
        "id": "xGxVdr-i9H4e",
        "outputId": "443614aa-04c0-4e23-b65b-9f4426e821c7"
      },
      "execution_count": 19,
      "outputs": [
        {
          "output_type": "stream",
          "name": "stderr",
          "text": [
            "Some weights of the model checkpoint at google/vit-base-patch16-224-in21k were not used when initializing ViTForImageClassification: ['pooler.dense.weight', 'pooler.dense.bias']\n",
            "- This IS expected if you are initializing ViTForImageClassification from the checkpoint of a model trained on another task or with another architecture (e.g. initializing a BertForSequenceClassification model from a BertForPreTraining model).\n",
            "- This IS NOT expected if you are initializing ViTForImageClassification from the checkpoint of a model that you expect to be exactly identical (initializing a BertForSequenceClassification model from a BertForSequenceClassification model).\n",
            "Some weights of ViTForImageClassification were not initialized from the model checkpoint at google/vit-base-patch16-224-in21k and are newly initialized: ['classifier.weight', 'classifier.bias']\n",
            "You should probably TRAIN this model on a down-stream task to be able to use it for predictions and inference.\n"
          ]
        }
      ]
    },
    {
      "cell_type": "code",
      "source": [
        "from transformers import TrainingArguments\n",
        "\n",
        "training_args = TrainingArguments(\n",
        "    f\"vit-snacks\",\n",
        "    per_device_train_batch_size = 16,\n",
        "    evaluation_strategy='steps',\n",
        "    num_train_epochs=5,\n",
        "    save_steps=100,\n",
        "    eval_steps=100,\n",
        "    logging_steps =10,\n",
        "    learning_rate=2e-4,\n",
        "    save_total_limit=2,\n",
        "    remove_unused_columns=False,\n",
        "    push_to_hub=True,\n",
        "    report_to='tensorboard',\n",
        "    load_best_model_at_end=True,\n",
        ")"
      ],
      "metadata": {
        "colab": {
          "base_uri": "https://localhost:8080/"
        },
        "id": "bnI-Agzw-t8v",
        "outputId": "c325ef96-7cad-4795-ed5d-b9eee685062c"
      },
      "execution_count": 29,
      "outputs": [
        {
          "output_type": "stream",
          "name": "stderr",
          "text": [
            "PyTorch: setting up devices\n"
          ]
        }
      ]
    },
    {
      "cell_type": "code",
      "source": [
        "%%capture\n",
        "! pip install huggingface_hub\n",
        "! git config --global credential.helper store"
      ],
      "metadata": {
        "id": "wPt9Pj1K4HiO"
      },
      "execution_count": 21,
      "outputs": []
    },
    {
      "cell_type": "code",
      "source": [
        "from huggingface_hub import notebook_login\n",
        "\n",
        "notebook_login()"
      ],
      "metadata": {
        "colab": {
          "base_uri": "https://localhost:8080/",
          "height": 327,
          "referenced_widgets": [
            "ca7c3a5fba644a508f786cf5c5a7999a",
            "facf2022580948299453af6b562fe1c4",
            "4d40c583c368402fbc3c984074d52c53",
            "3b7304f9f56041d986ea23a97f6a296b",
            "34bb5eed32714ceca08d6f7e9f7782ca",
            "5a339252ae104cd98bc8aeba104f617c",
            "0211a0640ec440a6a97460916e5d4756",
            "440895a9c85a4c4aa9b0d00acad0601e",
            "afeace46391f4b0f9d20a77e4067ccd6",
            "c861cc52460741b8bc9a01069bdb2af4",
            "86726d91174f4880b6366c994a2aeb92",
            "5c239cfd89c942e8b24782134c2721e4",
            "aeff36a5c03747b1a3bacbba885ce25f",
            "78a6f99eddd64d52ac8be816012b3196"
          ]
        },
        "id": "2P7spcp1377u",
        "outputId": "7db3c410-9608-46bc-897b-16b613d1e4ef"
      },
      "execution_count": 22,
      "outputs": [
        {
          "output_type": "display_data",
          "data": {
            "text/plain": [
              "VBox(children=(HTML(value='<center> <img\\nsrc=https://huggingface.co/front/assets/huggingface_logo-noborder.sv…"
            ],
            "application/vnd.jupyter.widget-view+json": {
              "version_major": 2,
              "version_minor": 0,
              "model_id": "ca7c3a5fba644a508f786cf5c5a7999a"
            }
          },
          "metadata": {}
        }
      ]
    },
    {
      "cell_type": "code",
      "source": [
        "from transformers import Trainer\n",
        "\n",
        "trainer = Trainer(\n",
        "    model = model,\n",
        "    args = training_args,\n",
        "    data_collator = collate_fn,\n",
        "    compute_metrics= compute_metrics,\n",
        "    train_dataset = prepared_ds['train'],\n",
        "    eval_dataset = prepared_ds['validation'],\n",
        "    tokenizer=feature_extractor,\n",
        "\n",
        ")"
      ],
      "metadata": {
        "id": "BuO6xxdkG_sY"
      },
      "execution_count": 23,
      "outputs": []
    },
    {
      "cell_type": "code",
      "source": [
        "train_results = trainer.train()\n",
        "trainer.save_model()\n",
        "trainer.log_metrics('train', train_results.metrics)\n",
        "trainer.save_metrics('train', train_results.metrics)\n",
        "trainer.save_state()"
      ],
      "metadata": {
        "id": "V1_IRiLpIp9v",
        "colab": {
          "base_uri": "https://localhost:8080/",
          "height": 1000
        },
        "outputId": "a6b784bb-de66-4fd6-a705-0915fb89a7f9"
      },
      "execution_count": 24,
      "outputs": [
        {
          "output_type": "stream",
          "name": "stderr",
          "text": [
            "/usr/local/lib/python3.7/dist-packages/transformers/optimization.py:310: FutureWarning: This implementation of AdamW is deprecated and will be removed in a future version. Use the PyTorch implementation torch.optim.AdamW instead, or set `no_deprecation_warning=True` to disable this warning\n",
            "  FutureWarning,\n",
            "***** Running training *****\n",
            "  Num examples = 4838\n",
            "  Num Epochs = 5\n",
            "  Instantaneous batch size per device = 16\n",
            "  Total train batch size (w. parallel, distributed & accumulation) = 16\n",
            "  Gradient Accumulation steps = 1\n",
            "  Total optimization steps = 1515\n"
          ]
        },
        {
          "output_type": "display_data",
          "data": {
            "text/plain": [
              "<IPython.core.display.HTML object>"
            ],
            "text/html": [
              "\n",
              "    <div>\n",
              "      \n",
              "      <progress value='1515' max='1515' style='width:300px; height:20px; vertical-align: middle;'></progress>\n",
              "      [1515/1515 19:45, Epoch 5/5]\n",
              "    </div>\n",
              "    <table border=\"1\" class=\"dataframe\">\n",
              "  <thead>\n",
              " <tr style=\"text-align: left;\">\n",
              "      <th>Step</th>\n",
              "      <th>Training Loss</th>\n",
              "      <th>Validation Loss</th>\n",
              "      <th>Accuracy</th>\n",
              "    </tr>\n",
              "  </thead>\n",
              "  <tbody>\n",
              "    <tr>\n",
              "      <td>100</td>\n",
              "      <td>0.876400</td>\n",
              "      <td>0.960147</td>\n",
              "      <td>0.840838</td>\n",
              "    </tr>\n",
              "    <tr>\n",
              "      <td>200</td>\n",
              "      <td>0.654800</td>\n",
              "      <td>0.747212</td>\n",
              "      <td>0.833508</td>\n",
              "    </tr>\n",
              "    <tr>\n",
              "      <td>300</td>\n",
              "      <td>0.472400</td>\n",
              "      <td>0.502757</td>\n",
              "      <td>0.878534</td>\n",
              "    </tr>\n",
              "    <tr>\n",
              "      <td>400</td>\n",
              "      <td>0.276400</td>\n",
              "      <td>0.474296</td>\n",
              "      <td>0.880628</td>\n",
              "    </tr>\n",
              "    <tr>\n",
              "      <td>500</td>\n",
              "      <td>0.252900</td>\n",
              "      <td>0.447288</td>\n",
              "      <td>0.883770</td>\n",
              "    </tr>\n",
              "    <tr>\n",
              "      <td>600</td>\n",
              "      <td>0.117900</td>\n",
              "      <td>0.466329</td>\n",
              "      <td>0.878534</td>\n",
              "    </tr>\n",
              "    <tr>\n",
              "      <td>700</td>\n",
              "      <td>0.066600</td>\n",
              "      <td>0.418198</td>\n",
              "      <td>0.897382</td>\n",
              "    </tr>\n",
              "    <tr>\n",
              "      <td>800</td>\n",
              "      <td>0.054800</td>\n",
              "      <td>0.405432</td>\n",
              "      <td>0.902618</td>\n",
              "    </tr>\n",
              "    <tr>\n",
              "      <td>900</td>\n",
              "      <td>0.095600</td>\n",
              "      <td>0.349726</td>\n",
              "      <td>0.917277</td>\n",
              "    </tr>\n",
              "    <tr>\n",
              "      <td>1000</td>\n",
              "      <td>0.017700</td>\n",
              "      <td>0.316750</td>\n",
              "      <td>0.912042</td>\n",
              "    </tr>\n",
              "    <tr>\n",
              "      <td>1100</td>\n",
              "      <td>0.009400</td>\n",
              "      <td>0.372628</td>\n",
              "      <td>0.909948</td>\n",
              "    </tr>\n",
              "    <tr>\n",
              "      <td>1200</td>\n",
              "      <td>0.028000</td>\n",
              "      <td>0.331545</td>\n",
              "      <td>0.919372</td>\n",
              "    </tr>\n",
              "    <tr>\n",
              "      <td>1300</td>\n",
              "      <td>0.006600</td>\n",
              "      <td>0.336132</td>\n",
              "      <td>0.923560</td>\n",
              "    </tr>\n",
              "    <tr>\n",
              "      <td>1400</td>\n",
              "      <td>0.006300</td>\n",
              "      <td>0.330904</td>\n",
              "      <td>0.923560</td>\n",
              "    </tr>\n",
              "    <tr>\n",
              "      <td>1500</td>\n",
              "      <td>0.006200</td>\n",
              "      <td>0.327878</td>\n",
              "      <td>0.922513</td>\n",
              "    </tr>\n",
              "  </tbody>\n",
              "</table><p>"
            ]
          },
          "metadata": {}
        },
        {
          "output_type": "stream",
          "name": "stderr",
          "text": [
            "***** Running Evaluation *****\n",
            "  Num examples = 955\n",
            "  Batch size = 8\n",
            "Saving model checkpoint to vit-snacks/checkpoint-100\n",
            "Configuration saved in vit-snacks/checkpoint-100/config.json\n",
            "Model weights saved in vit-snacks/checkpoint-100/pytorch_model.bin\n",
            "Feature extractor saved in vit-snacks/checkpoint-100/preprocessor_config.json\n",
            "***** Running Evaluation *****\n",
            "  Num examples = 955\n",
            "  Batch size = 8\n",
            "Saving model checkpoint to vit-snacks/checkpoint-200\n",
            "Configuration saved in vit-snacks/checkpoint-200/config.json\n",
            "Model weights saved in vit-snacks/checkpoint-200/pytorch_model.bin\n",
            "Feature extractor saved in vit-snacks/checkpoint-200/preprocessor_config.json\n",
            "***** Running Evaluation *****\n",
            "  Num examples = 955\n",
            "  Batch size = 8\n",
            "Saving model checkpoint to vit-snacks/checkpoint-300\n",
            "Configuration saved in vit-snacks/checkpoint-300/config.json\n",
            "Model weights saved in vit-snacks/checkpoint-300/pytorch_model.bin\n",
            "Feature extractor saved in vit-snacks/checkpoint-300/preprocessor_config.json\n",
            "Deleting older checkpoint [vit-snacks/checkpoint-100] due to args.save_total_limit\n",
            "***** Running Evaluation *****\n",
            "  Num examples = 955\n",
            "  Batch size = 8\n",
            "Saving model checkpoint to vit-snacks/checkpoint-400\n",
            "Configuration saved in vit-snacks/checkpoint-400/config.json\n",
            "Model weights saved in vit-snacks/checkpoint-400/pytorch_model.bin\n",
            "Feature extractor saved in vit-snacks/checkpoint-400/preprocessor_config.json\n",
            "Deleting older checkpoint [vit-snacks/checkpoint-200] due to args.save_total_limit\n",
            "***** Running Evaluation *****\n",
            "  Num examples = 955\n",
            "  Batch size = 8\n",
            "Saving model checkpoint to vit-snacks/checkpoint-500\n",
            "Configuration saved in vit-snacks/checkpoint-500/config.json\n",
            "Model weights saved in vit-snacks/checkpoint-500/pytorch_model.bin\n",
            "Feature extractor saved in vit-snacks/checkpoint-500/preprocessor_config.json\n",
            "Deleting older checkpoint [vit-snacks/checkpoint-300] due to args.save_total_limit\n",
            "***** Running Evaluation *****\n",
            "  Num examples = 955\n",
            "  Batch size = 8\n",
            "Saving model checkpoint to vit-snacks/checkpoint-600\n",
            "Configuration saved in vit-snacks/checkpoint-600/config.json\n",
            "Model weights saved in vit-snacks/checkpoint-600/pytorch_model.bin\n",
            "Feature extractor saved in vit-snacks/checkpoint-600/preprocessor_config.json\n",
            "Deleting older checkpoint [vit-snacks/checkpoint-400] due to args.save_total_limit\n",
            "***** Running Evaluation *****\n",
            "  Num examples = 955\n",
            "  Batch size = 8\n",
            "Saving model checkpoint to vit-snacks/checkpoint-700\n",
            "Configuration saved in vit-snacks/checkpoint-700/config.json\n",
            "Model weights saved in vit-snacks/checkpoint-700/pytorch_model.bin\n",
            "Feature extractor saved in vit-snacks/checkpoint-700/preprocessor_config.json\n",
            "Deleting older checkpoint [vit-snacks/checkpoint-500] due to args.save_total_limit\n",
            "***** Running Evaluation *****\n",
            "  Num examples = 955\n",
            "  Batch size = 8\n",
            "Saving model checkpoint to vit-snacks/checkpoint-800\n",
            "Configuration saved in vit-snacks/checkpoint-800/config.json\n",
            "Model weights saved in vit-snacks/checkpoint-800/pytorch_model.bin\n",
            "Feature extractor saved in vit-snacks/checkpoint-800/preprocessor_config.json\n",
            "Deleting older checkpoint [vit-snacks/checkpoint-600] due to args.save_total_limit\n",
            "***** Running Evaluation *****\n",
            "  Num examples = 955\n",
            "  Batch size = 8\n",
            "Saving model checkpoint to vit-snacks/checkpoint-900\n",
            "Configuration saved in vit-snacks/checkpoint-900/config.json\n",
            "Model weights saved in vit-snacks/checkpoint-900/pytorch_model.bin\n",
            "Feature extractor saved in vit-snacks/checkpoint-900/preprocessor_config.json\n",
            "Deleting older checkpoint [vit-snacks/checkpoint-700] due to args.save_total_limit\n",
            "***** Running Evaluation *****\n",
            "  Num examples = 955\n",
            "  Batch size = 8\n",
            "Saving model checkpoint to vit-snacks/checkpoint-1000\n",
            "Configuration saved in vit-snacks/checkpoint-1000/config.json\n",
            "Model weights saved in vit-snacks/checkpoint-1000/pytorch_model.bin\n",
            "Feature extractor saved in vit-snacks/checkpoint-1000/preprocessor_config.json\n",
            "Deleting older checkpoint [vit-snacks/checkpoint-800] due to args.save_total_limit\n",
            "***** Running Evaluation *****\n",
            "  Num examples = 955\n",
            "  Batch size = 8\n",
            "Saving model checkpoint to vit-snacks/checkpoint-1100\n",
            "Configuration saved in vit-snacks/checkpoint-1100/config.json\n",
            "Model weights saved in vit-snacks/checkpoint-1100/pytorch_model.bin\n",
            "Feature extractor saved in vit-snacks/checkpoint-1100/preprocessor_config.json\n",
            "Deleting older checkpoint [vit-snacks/checkpoint-900] due to args.save_total_limit\n",
            "***** Running Evaluation *****\n",
            "  Num examples = 955\n",
            "  Batch size = 8\n",
            "Saving model checkpoint to vit-snacks/checkpoint-1200\n",
            "Configuration saved in vit-snacks/checkpoint-1200/config.json\n",
            "Model weights saved in vit-snacks/checkpoint-1200/pytorch_model.bin\n",
            "Feature extractor saved in vit-snacks/checkpoint-1200/preprocessor_config.json\n",
            "Deleting older checkpoint [vit-snacks/checkpoint-1100] due to args.save_total_limit\n",
            "***** Running Evaluation *****\n",
            "  Num examples = 955\n",
            "  Batch size = 8\n",
            "Saving model checkpoint to vit-snacks/checkpoint-1300\n",
            "Configuration saved in vit-snacks/checkpoint-1300/config.json\n",
            "Model weights saved in vit-snacks/checkpoint-1300/pytorch_model.bin\n",
            "Feature extractor saved in vit-snacks/checkpoint-1300/preprocessor_config.json\n",
            "Deleting older checkpoint [vit-snacks/checkpoint-1200] due to args.save_total_limit\n",
            "***** Running Evaluation *****\n",
            "  Num examples = 955\n",
            "  Batch size = 8\n",
            "Saving model checkpoint to vit-snacks/checkpoint-1400\n",
            "Configuration saved in vit-snacks/checkpoint-1400/config.json\n",
            "Model weights saved in vit-snacks/checkpoint-1400/pytorch_model.bin\n",
            "Feature extractor saved in vit-snacks/checkpoint-1400/preprocessor_config.json\n",
            "Deleting older checkpoint [vit-snacks/checkpoint-1300] due to args.save_total_limit\n",
            "***** Running Evaluation *****\n",
            "  Num examples = 955\n",
            "  Batch size = 8\n",
            "Saving model checkpoint to vit-snacks/checkpoint-1500\n",
            "Configuration saved in vit-snacks/checkpoint-1500/config.json\n",
            "Model weights saved in vit-snacks/checkpoint-1500/pytorch_model.bin\n",
            "Feature extractor saved in vit-snacks/checkpoint-1500/preprocessor_config.json\n",
            "Deleting older checkpoint [vit-snacks/checkpoint-1400] due to args.save_total_limit\n",
            "\n",
            "\n",
            "Training completed. Do not forget to share your model on huggingface.co/models =)\n",
            "\n",
            "\n",
            "Loading best model from vit-snacks/checkpoint-1000 (score: 0.316749632358551).\n",
            "Saving model checkpoint to vit-snacks\n",
            "Configuration saved in vit-snacks/config.json\n",
            "Model weights saved in vit-snacks/pytorch_model.bin\n",
            "Feature extractor saved in vit-snacks/preprocessor_config.json\n"
          ]
        },
        {
          "output_type": "stream",
          "name": "stdout",
          "text": [
            "***** train metrics *****\n",
            "  epoch                    =          5.0\n",
            "  total_flos               = 1746074896GF\n",
            "  train_loss               =       0.2606\n",
            "  train_runtime            =   0:19:45.83\n",
            "  train_samples_per_second =       20.399\n",
            "  train_steps_per_second   =        1.278\n"
          ]
        }
      ]
    },
    {
      "cell_type": "code",
      "source": [
        "metrics = trainer.evaluate(prepared_ds['validation'])\n",
        "trainer.log_metrics('eval',metrics)\n",
        "trainer.save_metrics('eval', metrics)"
      ],
      "metadata": {
        "colab": {
          "base_uri": "https://localhost:8080/",
          "height": 211
        },
        "id": "9bFxocoW2pbf",
        "outputId": "70497464-390a-4ea6-bd49-36ac22b11513"
      },
      "execution_count": 26,
      "outputs": [
        {
          "output_type": "stream",
          "name": "stderr",
          "text": [
            "***** Running Evaluation *****\n",
            "  Num examples = 955\n",
            "  Batch size = 8\n"
          ]
        },
        {
          "output_type": "display_data",
          "data": {
            "text/plain": [
              "<IPython.core.display.HTML object>"
            ],
            "text/html": [
              "\n",
              "    <div>\n",
              "      \n",
              "      <progress value='240' max='120' style='width:300px; height:20px; vertical-align: middle;'></progress>\n",
              "      [120/120 00:59]\n",
              "    </div>\n",
              "    "
            ]
          },
          "metadata": {}
        },
        {
          "output_type": "stream",
          "name": "stdout",
          "text": [
            "***** eval metrics *****\n",
            "  epoch                   =        5.0\n",
            "  eval_accuracy           =      0.912\n",
            "  eval_loss               =     0.3167\n",
            "  eval_runtime            = 0:00:14.32\n",
            "  eval_samples_per_second =     66.648\n",
            "  eval_steps_per_second   =      8.375\n"
          ]
        }
      ]
    },
    {
      "cell_type": "code",
      "source": [
        ""
      ],
      "metadata": {
        "id": "F7rLIPIO54-N"
      },
      "execution_count": 37,
      "outputs": []
    },
    {
      "cell_type": "code",
      "source": [
        ""
      ],
      "metadata": {
        "id": "TeU4RPptGn01"
      },
      "execution_count": 37,
      "outputs": []
    },
    {
      "cell_type": "code",
      "source": [
        ""
      ],
      "metadata": {
        "id": "Yxsqm2G-HXS8"
      },
      "execution_count": 37,
      "outputs": []
    },
    {
      "cell_type": "code",
      "source": [
        ""
      ],
      "metadata": {
        "id": "0HgUv-3mENL-"
      },
      "execution_count": 37,
      "outputs": []
    },
    {
      "cell_type": "code",
      "source": [
        ""
      ],
      "metadata": {
        "id": "zP3HoN6EGcuG"
      },
      "execution_count": null,
      "outputs": []
    }
  ]
}